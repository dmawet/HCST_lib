{
 "cells": [
  {
   "cell_type": "code",
   "execution_count": null,
   "metadata": {},
   "outputs": [],
   "source": [
    "# Note jupyter notebook cant seem to open the viewing window"
   ]
  },
  {
   "cell_type": "code",
   "execution_count": 2,
   "metadata": {},
   "outputs": [],
   "source": [
    "#Libraries\n",
    "from pyueye import ueye\n",
    "import numpy as np\n",
    "# import cv2\n",
    "import sys\n",
    "import matplotlib.pyplot as plt\n",
    "import numpy as np"
   ]
  },
  {
   "cell_type": "code",
   "execution_count": 3,
   "metadata": {},
   "outputs": [
    {
     "name": "stdout",
     "output_type": "stream",
     "text": [
      "START\n",
      "\n"
     ]
    }
   ],
   "source": [
    "#Variables\n",
    "hCam = ueye.HIDS(0)             #0: first available camera;  1-254: The camera with the specified camera ID\n",
    "sInfo = ueye.SENSORINFO()\n",
    "cInfo = ueye.CAMINFO()\n",
    "pcImageMemory = ueye.c_mem_p()\n",
    "MemID = ueye.int()\n",
    "rectAOI = ueye.IS_RECT()\n",
    "pitch = ueye.INT()\n",
    "nBitsPerPixel = ueye.INT(8)    #24: bits per pixel for color mode; take 8 bits per pixel for monochrome\n",
    "channels = 1                    #3: channels for color mode(RGB); take 1 channel for monochrome\n",
    "m_nColorMode = ueye.INT()\t\t# Y8/RGB16/RGB24/REG32\n",
    "bytes_per_pixel = int(nBitsPerPixel / 8)\n",
    "#---------------------------------------------------------------------------------------------------------------------------------------\n",
    "print(\"START\")\n",
    "print()\n"
   ]
  },
  {
   "cell_type": "code",
   "execution_count": 4,
   "metadata": {},
   "outputs": [],
   "source": [
    "# Starts the driver and establishes the connection to the camera\n",
    "nRet = ueye.is_InitCamera(hCam, None)\n",
    "if nRet != ueye.IS_SUCCESS:\n",
    "    print(\"is_InitCamera ERROR\")\n",
    "\n"
   ]
  },
  {
   "cell_type": "code",
   "execution_count": 5,
   "metadata": {},
   "outputs": [],
   "source": [
    "# Can be used to set the size and position of an \"area of interest\"(AOI) within an image\n",
    "nRet = ueye.is_AOI(hCam, ueye.IS_AOI_IMAGE_GET_AOI, rectAOI, ueye.sizeof(rectAOI))\n",
    "if nRet != ueye.IS_SUCCESS:\n",
    "    print(\"is_AOI ERROR\")\n",
    "width = rectAOI.s32Width\n",
    "height = rectAOI.s32Height"
   ]
  },
  {
   "cell_type": "code",
   "execution_count": 6,
   "metadata": {},
   "outputs": [
    {
     "name": "stdout",
     "output_type": "stream",
     "text": [
      "Camera model:\t\t \n",
      "Camera serial no.:\t \n",
      "Maximum image width:\t 3840\n",
      "Maximum image height:\t 2748\n",
      "\n"
     ]
    }
   ],
   "source": [
    "# Prints out some information about the camera and the sensor\n",
    "print(\"Camera model:\\t\\t\", sInfo.strSensorName.decode('utf-8'))\n",
    "print(\"Camera serial no.:\\t\", cInfo.SerNo.decode('utf-8'))\n",
    "print(\"Maximum image width:\\t\", width)\n",
    "print(\"Maximum image height:\\t\", height)\n",
    "print()"
   ]
  },
  {
   "cell_type": "code",
   "execution_count": 7,
   "metadata": {},
   "outputs": [],
   "source": [
    "exposure_time = 5.0\n",
    "exposure_time_ue = ueye.c_double(exposure_time)\n",
    "nRet = ueye.is_Exposure(hCam, ueye.IS_EXPOSURE_CMD_SET_EXPOSURE, exposure_time_ue, 8)"
   ]
  },
  {
   "cell_type": "code",
   "execution_count": 8,
   "metadata": {},
   "outputs": [
    {
     "name": "stdout",
     "output_type": "stream",
     "text": [
      "7.0\n",
      "3.0\n",
      "4.0\n"
     ]
    }
   ],
   "source": [
    "print(ueye.double(ueye.IS_EXPOSURE_CMD_GET_EXPOSURE))\n",
    "\n",
    "print(ueye.double(ueye.IS_EXPOSURE_CMD_GET_EXPOSURE_RANGE_MIN))\n",
    "print(ueye.double(ueye.IS_EXPOSURE_CMD_GET_EXPOSURE_RANGE_MAX))"
   ]
  },
  {
   "cell_type": "code",
   "execution_count": 12,
   "metadata": {
    "scrolled": true
   },
   "outputs": [
    {
     "name": "stdout",
     "output_type": "stream",
     "text": [
      "Help on function is_Exposure in module pyueye.ueye:\n",
      "\n",
      "is_Exposure(hCam, nCommand, pParam, cbSizeOfParam)\n",
      "    :param hCam: c_uint (aka c-type: HIDS)\n",
      "    :param nCommand: c_uint (aka c-type: UINT)\n",
      "    :param pParam: c_void_p - might differ depending on nCommand (aka c-type: void \\*)\n",
      "    :param cbSizeOfParam: c_uint (aka c-type: UINT)\n",
      "    :returns: success, or no success, that is the answer\n",
      "    :raises NotImplementedError: if function could not be loaded\n",
      "\n"
     ]
    }
   ],
   "source": [
    "help(ueye.is_Exposure)"
   ]
  },
  {
   "cell_type": "code",
   "execution_count": 9,
   "metadata": {},
   "outputs": [
    {
     "data": {
      "text/plain": [
       "5.047583333333334"
      ]
     },
     "execution_count": 9,
     "metadata": {},
     "output_type": "execute_result"
    }
   ],
   "source": [
    "itime_get_p = ueye.c_double(5)\n",
    "\n",
    "ueye.is_Exposure(hCam, ueye.IS_EXPOSURE_CMD_GET_EXPOSURE, itime_get_p, 8)\n",
    "\n",
    "itime_get_p.value"
   ]
  },
  {
   "cell_type": "code",
   "execution_count": 28,
   "metadata": {},
   "outputs": [
    {
     "data": {
      "text/plain": [
       "499.92283333333336"
      ]
     },
     "execution_count": 28,
     "metadata": {},
     "output_type": "execute_result"
    }
   ],
   "source": [
    "itime_get_p = ueye.c_double(666)\n",
    "\n",
    "ueye.is_Exposure(hCam, ueye.IS_EXPOSURE_CMD_GET_EXPOSURE_RANGE_MAX, itime_get_p, 8)\n",
    "\n",
    "itime_get_p.value"
   ]
  },
  {
   "cell_type": "code",
   "execution_count": 10,
   "metadata": {},
   "outputs": [],
   "source": [
    "\n",
    "# Allocates an image memory for an image having its dimensions defined by width and height and its color depth defined by nBitsPerPixel\n",
    "nRet = ueye.is_AllocImageMem(hCam, width, height, nBitsPerPixel, pcImageMemory, MemID)\n",
    "if nRet != ueye.IS_SUCCESS:\n",
    "    print(\"is_AllocImageMem ERROR\")\n",
    "else:\n",
    "    # Makes the specified image memory the active memory\n",
    "    nRet = ueye.is_SetImageMem(hCam, pcImageMemory, MemID)\n",
    "    if nRet != ueye.IS_SUCCESS:\n",
    "        print(\"is_SetImageMem ERROR\")\n",
    "    else:\n",
    "        # Set the desired color mode\n",
    "        nRet = ueye.is_SetColorMode(hCam, m_nColorMode)\n"
   ]
  },
  {
   "cell_type": "code",
   "execution_count": 11,
   "metadata": {},
   "outputs": [],
   "source": [
    "# Activates the camera's live video mode (free run mode)\n",
    "nRet = ueye.is_SetDisplayMode(hCam, ueye.IS_DONT_WAIT)\n",
    "if nRet != ueye.IS_SUCCESS:\n",
    "    print(\"is_CaptureVideo ERROR\")"
   ]
  },
  {
   "cell_type": "code",
   "execution_count": 8,
   "metadata": {},
   "outputs": [],
   "source": [
    "# Activates the camera's live video mode (free run mode)\n",
    "nRet = ueye.is_CaptureVideo(hCam, ueye.IS_DONT_WAIT)\n",
    "if nRet != ueye.IS_SUCCESS:\n",
    "    print(\"is_CaptureVideo ERROR\")"
   ]
  },
  {
   "cell_type": "code",
   "execution_count": 9,
   "metadata": {},
   "outputs": [],
   "source": [
    "nRet = ueye.is_SetFrameRate(hCam, 1000, ueye.double(100))\n",
    "if nRet != ueye.IS_SUCCESS:\n",
    "    print(\"is_SetFrameRate ERROR\")\n"
   ]
  },
  {
   "cell_type": "code",
   "execution_count": 10,
   "metadata": {},
   "outputs": [
    {
     "name": "stdout",
     "output_type": "stream",
     "text": [
      "Press q to leave the programm\n"
     ]
    }
   ],
   "source": [
    "# Enables the queue mode for existing image memory sequences\n",
    "nRet = ueye.is_InquireImageMem(hCam, pcImageMemory, MemID, width, height, nBitsPerPixel, pitch)\n",
    "if nRet != ueye.IS_SUCCESS:\n",
    "    print(\"is_InquireImageMem ERROR\")\n",
    "else:\n",
    "    print(\"Press q to leave the programm\")"
   ]
  },
  {
   "cell_type": "code",
   "execution_count": 13,
   "metadata": {},
   "outputs": [
    {
     "name": "stdout",
     "output_type": "stream",
     "text": [
      "[]\n"
     ]
    },
    {
     "ename": "ValueError",
     "evalue": "cannot reshape array of size 0 into shape (2748,3840,1)",
     "output_type": "error",
     "traceback": [
      "\u001b[0;31m---------------------------------------------------------------------------\u001b[0m",
      "\u001b[0;31mValueError\u001b[0m                                Traceback (most recent call last)",
      "\u001b[0;32m<ipython-input-13-e16516aa4da2>\u001b[0m in \u001b[0;36m<module>\u001b[0;34m\u001b[0m\n\u001b[1;32m      2\u001b[0m \u001b[0;34m\u001b[0m\u001b[0m\n\u001b[1;32m      3\u001b[0m \u001b[0mprint\u001b[0m\u001b[0;34m(\u001b[0m\u001b[0marray\u001b[0m\u001b[0;34m)\u001b[0m\u001b[0;34m\u001b[0m\u001b[0;34m\u001b[0m\u001b[0m\n\u001b[0;32m----> 4\u001b[0;31m \u001b[0mframe\u001b[0m \u001b[0;34m=\u001b[0m \u001b[0mnp\u001b[0m\u001b[0;34m.\u001b[0m\u001b[0mreshape\u001b[0m\u001b[0;34m(\u001b[0m\u001b[0marray\u001b[0m\u001b[0;34m,\u001b[0m\u001b[0;34m(\u001b[0m\u001b[0mheight\u001b[0m\u001b[0;34m.\u001b[0m\u001b[0mvalue\u001b[0m\u001b[0;34m,\u001b[0m \u001b[0mwidth\u001b[0m\u001b[0;34m.\u001b[0m\u001b[0mvalue\u001b[0m\u001b[0;34m,\u001b[0m \u001b[0mbytes_per_pixel\u001b[0m\u001b[0;34m)\u001b[0m\u001b[0;34m)\u001b[0m\u001b[0;34m\u001b[0m\u001b[0;34m\u001b[0m\u001b[0m\n\u001b[0m\u001b[1;32m      5\u001b[0m \u001b[0mplt\u001b[0m\u001b[0;34m.\u001b[0m\u001b[0mimshow\u001b[0m\u001b[0;34m(\u001b[0m\u001b[0mnp\u001b[0m\u001b[0;34m.\u001b[0m\u001b[0mabs\u001b[0m\u001b[0;34m(\u001b[0m\u001b[0mframe\u001b[0m\u001b[0;34m)\u001b[0m\u001b[0;34m)\u001b[0m\u001b[0;34m\u001b[0m\u001b[0;34m\u001b[0m\u001b[0m\n\u001b[1;32m      6\u001b[0m \u001b[0mplt\u001b[0m\u001b[0;34m.\u001b[0m\u001b[0mcolorbar\u001b[0m\u001b[0;34m(\u001b[0m\u001b[0;34m)\u001b[0m\u001b[0;34m\u001b[0m\u001b[0;34m\u001b[0m\u001b[0m\n",
      "\u001b[0;32m<__array_function__ internals>\u001b[0m in \u001b[0;36mreshape\u001b[0;34m(*args, **kwargs)\u001b[0m\n",
      "\u001b[0;32m~/anaconda3/lib/python3.7/site-packages/numpy/core/fromnumeric.py\u001b[0m in \u001b[0;36mreshape\u001b[0;34m(a, newshape, order)\u001b[0m\n\u001b[1;32m    296\u001b[0m            [5, 6]])\n\u001b[1;32m    297\u001b[0m     \"\"\"\n\u001b[0;32m--> 298\u001b[0;31m     \u001b[0;32mreturn\u001b[0m \u001b[0m_wrapfunc\u001b[0m\u001b[0;34m(\u001b[0m\u001b[0ma\u001b[0m\u001b[0;34m,\u001b[0m \u001b[0;34m'reshape'\u001b[0m\u001b[0;34m,\u001b[0m \u001b[0mnewshape\u001b[0m\u001b[0;34m,\u001b[0m \u001b[0morder\u001b[0m\u001b[0;34m=\u001b[0m\u001b[0morder\u001b[0m\u001b[0;34m)\u001b[0m\u001b[0;34m\u001b[0m\u001b[0;34m\u001b[0m\u001b[0m\n\u001b[0m\u001b[1;32m    299\u001b[0m \u001b[0;34m\u001b[0m\u001b[0m\n\u001b[1;32m    300\u001b[0m \u001b[0;34m\u001b[0m\u001b[0m\n",
      "\u001b[0;32m~/anaconda3/lib/python3.7/site-packages/numpy/core/fromnumeric.py\u001b[0m in \u001b[0;36m_wrapfunc\u001b[0;34m(obj, method, *args, **kwds)\u001b[0m\n\u001b[1;32m     55\u001b[0m \u001b[0;34m\u001b[0m\u001b[0m\n\u001b[1;32m     56\u001b[0m     \u001b[0;32mtry\u001b[0m\u001b[0;34m:\u001b[0m\u001b[0;34m\u001b[0m\u001b[0;34m\u001b[0m\u001b[0m\n\u001b[0;32m---> 57\u001b[0;31m         \u001b[0;32mreturn\u001b[0m \u001b[0mbound\u001b[0m\u001b[0;34m(\u001b[0m\u001b[0;34m*\u001b[0m\u001b[0margs\u001b[0m\u001b[0;34m,\u001b[0m \u001b[0;34m**\u001b[0m\u001b[0mkwds\u001b[0m\u001b[0;34m)\u001b[0m\u001b[0;34m\u001b[0m\u001b[0;34m\u001b[0m\u001b[0m\n\u001b[0m\u001b[1;32m     58\u001b[0m     \u001b[0;32mexcept\u001b[0m \u001b[0mTypeError\u001b[0m\u001b[0;34m:\u001b[0m\u001b[0;34m\u001b[0m\u001b[0;34m\u001b[0m\u001b[0m\n\u001b[1;32m     59\u001b[0m         \u001b[0;31m# A TypeError occurs if the object does have such a method in its\u001b[0m\u001b[0;34m\u001b[0m\u001b[0;34m\u001b[0m\u001b[0;34m\u001b[0m\u001b[0m\n",
      "\u001b[0;31mValueError\u001b[0m: cannot reshape array of size 0 into shape (2748,3840,1)"
     ]
    }
   ],
   "source": [
    "array = ueye.get_data(pcImageMemory, width, height, nBitsPerPixel, pitch, copy=False)\n",
    "\n",
    "print(array)\n",
    "frame = np.reshape(array,(height.value, width.value, bytes_per_pixel))\n",
    "plt.imshow(np.abs(frame))\n",
    "plt.colorbar()"
   ]
  },
  {
   "cell_type": "code",
   "execution_count": null,
   "metadata": {},
   "outputs": [],
   "source": []
  },
  {
   "cell_type": "code",
   "execution_count": 15,
   "metadata": {},
   "outputs": [
    {
     "ename": "KeyboardInterrupt",
     "evalue": "",
     "output_type": "error",
     "traceback": [
      "\u001b[0;31m---------------------------------------------------------------------------\u001b[0m",
      "\u001b[0;31mKeyboardInterrupt\u001b[0m                         Traceback (most recent call last)",
      "Cell \u001b[0;32mIn[15], line 14\u001b[0m\n\u001b[1;32m     11\u001b[0m frame \u001b[38;5;241m=\u001b[39m np\u001b[38;5;241m.\u001b[39mreshape(array,(height\u001b[38;5;241m.\u001b[39mvalue, width\u001b[38;5;241m.\u001b[39mvalue, bytes_per_pixel))\n\u001b[1;32m     13\u001b[0m \u001b[38;5;66;03m# ...resize the image by a half\u001b[39;00m\n\u001b[0;32m---> 14\u001b[0m frame \u001b[38;5;241m=\u001b[39m \u001b[43mcv2\u001b[49m\u001b[38;5;241;43m.\u001b[39;49m\u001b[43mresize\u001b[49m\u001b[43m(\u001b[49m\u001b[43mframe\u001b[49m\u001b[43m,\u001b[49m\u001b[43m(\u001b[49m\u001b[38;5;241;43m0\u001b[39;49m\u001b[43m,\u001b[49m\u001b[38;5;241;43m0\u001b[39;49m\u001b[43m)\u001b[49m\u001b[43m,\u001b[49m\u001b[43mfx\u001b[49m\u001b[38;5;241;43m=\u001b[39;49m\u001b[38;5;241;43m0.5\u001b[39;49m\u001b[43m,\u001b[49m\u001b[43m \u001b[49m\u001b[43mfy\u001b[49m\u001b[38;5;241;43m=\u001b[39;49m\u001b[38;5;241;43m0.5\u001b[39;49m\u001b[43m)\u001b[49m\n",
      "\u001b[0;31mKeyboardInterrupt\u001b[0m: "
     ]
    }
   ],
   "source": [
    "# Continuous image display\n",
    "while(nRet == ueye.IS_SUCCESS):\n",
    "\n",
    "    # In order to display the image in an OpenCV window we need to...\n",
    "    # ...extract the data of our image memory\n",
    "    array = ueye.get_data(pcImageMemory, width, height, nBitsPerPixel, pitch, copy=False)\n",
    "\n",
    "    # bytes_per_pixel = int(nBitsPerPixel / 8)\n",
    "\n",
    "    # ...reshape it in an numpy array...\n",
    "    frame = np.reshape(array,(height.value, width.value, bytes_per_pixel))\n",
    "\n",
    "    # ...resize the image by a half\n",
    "    frame = cv2.resize(frame,(0,0),fx=0.5, fy=0.5)"
   ]
  },
  {
   "cell_type": "code",
   "execution_count": 14,
   "metadata": {},
   "outputs": [
    {
     "data": {
      "text/plain": [
       "0"
      ]
     },
     "execution_count": 14,
     "metadata": {},
     "output_type": "execute_result"
    }
   ],
   "source": [
    "# Releases an image memory that was allocated using is_AllocImageMem() and removes it from the driver management\n",
    "ueye.is_FreeImageMem(hCam, pcImageMemory, MemID)\n",
    "\n",
    "# Disables the hCam camera handle and releases the data structures and memory areas taken up by the uEye camera\n",
    "ueye.is_ExitCamera(hCam)\n",
    "\n",
    "# Destroys the OpenCv windows\n",
    "# cv2.destroyAllWindows()"
   ]
  },
  {
   "cell_type": "code",
   "execution_count": 15,
   "metadata": {},
   "outputs": [],
   "source": [
    "import numpy as np"
   ]
  },
  {
   "cell_type": "code",
   "execution_count": 19,
   "metadata": {},
   "outputs": [
    {
     "name": "stdout",
     "output_type": "stream",
     "text": [
      "[597.5 607.5 617.5 627.5 637.5 647.5 657.5 667.5 677.5 687.5] \n",
      " [602.5 612.5 622.5 632.5 642.5 652.5 662.5 672.5 682.5 692.5]\n"
     ]
    }
   ],
   "source": [
    "wr = np.arange(600,700, 10)\n",
    "bw = 5\n",
    "sw = wr - bw/2\n",
    "lw = wr + bw/2\n",
    "\n",
    "print(sw, '\\n', lw)"
   ]
  },
  {
   "cell_type": "code",
   "execution_count": 20,
   "metadata": {},
   "outputs": [
    {
     "data": {
      "text/plain": [
       "'2024-02-06'"
      ]
     },
     "execution_count": 20,
     "metadata": {},
     "output_type": "execute_result"
    }
   ],
   "source": [
    "from datetime import datetime\n",
    "datetime.today().strftime('%Y-%m-%d')"
   ]
  },
  {
   "cell_type": "code",
   "execution_count": 24,
   "metadata": {},
   "outputs": [
    {
     "data": {
      "text/plain": [
       "3"
      ]
     },
     "execution_count": 24,
     "metadata": {},
     "output_type": "execute_result"
    }
   ],
   "source": [
    "a = np.array([1,2,3,5,4,3,2])\n",
    "np.where(a == np.max(a))[0][0]"
   ]
  },
  {
   "cell_type": "code",
   "execution_count": null,
   "metadata": {},
   "outputs": [],
   "source": []
  }
 ],
 "metadata": {
  "kernelspec": {
   "display_name": "Python 3",
   "language": "python",
   "name": "python3"
  },
  "language_info": {
   "codemirror_mode": {
    "name": "ipython",
    "version": 3
   },
   "file_extension": ".py",
   "mimetype": "text/x-python",
   "name": "python",
   "nbconvert_exporter": "python",
   "pygments_lexer": "ipython3",
   "version": "3.7.3"
  }
 },
 "nbformat": 4,
 "nbformat_minor": 5
}
