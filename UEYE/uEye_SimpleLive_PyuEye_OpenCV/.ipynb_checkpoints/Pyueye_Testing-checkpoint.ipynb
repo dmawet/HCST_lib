{
 "cells": [
  {
   "cell_type": "code",
   "execution_count": null,
   "id": "17948064-131f-4f6b-af25-2e5b6833f6db",
   "metadata": {},
   "outputs": [],
   "source": [
    "# Note jupyter notebook cant seem to open the viewing window"
   ]
  },
  {
   "cell_type": "code",
   "execution_count": 1,
   "id": "18d4b12c-35e8-4a26-877a-a15b03a0d833",
   "metadata": {},
   "outputs": [],
   "source": [
    "#Libraries\n",
    "from pyueye import ueye\n",
    "import numpy as np\n",
    "import cv2\n",
    "import sys\n",
    "import matplotlib.pyplot as plt"
   ]
  },
  {
   "cell_type": "code",
   "execution_count": 2,
   "id": "eac73f95-cf94-450e-874e-0b3c2458185d",
   "metadata": {},
   "outputs": [
    {
     "name": "stdout",
     "output_type": "stream",
     "text": [
      "START\n",
      "\n"
     ]
    }
   ],
   "source": [
    "#Variables\n",
    "hCam = ueye.HIDS(0)             #0: first available camera;  1-254: The camera with the specified camera ID\n",
    "sInfo = ueye.SENSORINFO()\n",
    "cInfo = ueye.CAMINFO()\n",
    "pcImageMemory = ueye.c_mem_p()\n",
    "MemID = ueye.int()\n",
    "rectAOI = ueye.IS_RECT()\n",
    "pitch = ueye.INT()\n",
    "nBitsPerPixel = ueye.INT(8)    #24: bits per pixel for color mode; take 8 bits per pixel for monochrome\n",
    "channels = 1                    #3: channels for color mode(RGB); take 1 channel for monochrome\n",
    "m_nColorMode = ueye.INT()\t\t# Y8/RGB16/RGB24/REG32\n",
    "bytes_per_pixel = int(nBitsPerPixel / 8)\n",
    "#---------------------------------------------------------------------------------------------------------------------------------------\n",
    "print(\"START\")\n",
    "print()\n"
   ]
  },
  {
   "cell_type": "code",
   "execution_count": 3,
   "id": "0116c58e-f879-432d-8983-b49060730cf9",
   "metadata": {},
   "outputs": [],
   "source": [
    "# Starts the driver and establishes the connection to the camera\n",
    "nRet = ueye.is_InitCamera(hCam, None)\n",
    "if nRet != ueye.IS_SUCCESS:\n",
    "    print(\"is_InitCamera ERROR\")\n",
    "\n",
    "# Reads out the data hard-coded in the non-volatile camera memory and writes it to the data structure that cInfo points to\n",
    "nRet = ueye.is_GetCameraInfo(hCam, cInfo)\n",
    "if nRet != ueye.IS_SUCCESS:\n",
    "    print(\"is_GetCameraInfo ERROR\")\n",
    "\n",
    "# You can query additional information about the sensor type used in the camera\n",
    "nRet = ueye.is_GetSensorInfo(hCam, sInfo)\n",
    "if nRet != ueye.IS_SUCCESS:\n",
    "    print(\"is_GetSensorInfo ERROR\")\n",
    "\n",
    "nRet = ueye.is_ResetToDefault( hCam)\n",
    "if nRet != ueye.IS_SUCCESS:\n",
    "    print(\"is_ResetToDefault ERROR\")"
   ]
  },
  {
   "cell_type": "code",
   "execution_count": 4,
   "id": "5db00604-f2fa-4534-b12d-82871c3a97bd",
   "metadata": {},
   "outputs": [
    {
     "name": "stdout",
     "output_type": "stream",
     "text": [
      "IS_COLORMODE_MONOCHROME: \n",
      "\tm_nColorMode: \t\t 6\n",
      "\tnBitsPerPixel: \t\t 8\n",
      "\tbytes_per_pixel: \t\t 1\n",
      "\n"
     ]
    }
   ],
   "source": [
    "if int.from_bytes(sInfo.nColorMode.value, byteorder='big') == ueye.IS_COLORMODE_MONOCHROME:\n",
    "    # for color camera models use RGB32 mode\n",
    "    m_nColorMode = ueye.IS_CM_MONO8\n",
    "    nBitsPerPixel = ueye.INT(8)\n",
    "    bytes_per_pixel = int(nBitsPerPixel / 8)\n",
    "    print(\"IS_COLORMODE_MONOCHROME: \", )\n",
    "    print(\"\\tm_nColorMode: \\t\\t\", m_nColorMode)\n",
    "    print(\"\\tnBitsPerPixel: \\t\\t\", nBitsPerPixel)\n",
    "    print(\"\\tbytes_per_pixel: \\t\\t\", bytes_per_pixel)\n",
    "    print()"
   ]
  },
  {
   "cell_type": "code",
   "execution_count": 5,
   "id": "ed9dd077-db04-4243-9c7d-2ed009f14b86",
   "metadata": {},
   "outputs": [],
   "source": [
    "# Can be used to set the size and position of an \"area of interest\"(AOI) within an image\n",
    "nRet = ueye.is_AOI(hCam, ueye.IS_AOI_IMAGE_GET_AOI, rectAOI, ueye.sizeof(rectAOI))\n",
    "if nRet != ueye.IS_SUCCESS:\n",
    "    print(\"is_AOI ERROR\")\n",
    "width = rectAOI.s32Width\n",
    "height = rectAOI.s32Height"
   ]
  },
  {
   "cell_type": "code",
   "execution_count": 6,
   "id": "062116b1-a5a1-40cf-905e-478d7e9fd3fa",
   "metadata": {},
   "outputs": [
    {
     "name": "stdout",
     "output_type": "stream",
     "text": [
      "Camera model:\t\t UI149xLE-M\n",
      "Camera serial no.:\t 4103218478\n",
      "Maximum image width:\t 3840\n",
      "Maximum image height:\t 2748\n",
      "\n"
     ]
    }
   ],
   "source": [
    "# Prints out some information about the camera and the sensor\n",
    "print(\"Camera model:\\t\\t\", sInfo.strSensorName.decode('utf-8'))\n",
    "print(\"Camera serial no.:\\t\", cInfo.SerNo.decode('utf-8'))\n",
    "print(\"Maximum image width:\\t\", width)\n",
    "print(\"Maximum image height:\\t\", height)\n",
    "print()"
   ]
  },
  {
   "cell_type": "code",
   "execution_count": null,
   "id": "6ac6a54f-8efb-4bd4-aba1-21cf65371552",
   "metadata": {},
   "outputs": [],
   "source": [
    "exposure_time = 3\n",
    "exposure_time_ue = ueye.double(exposure_time)\n",
    "nRet = ueye.is_Exposure(hCam, ueye.IS_EXPOSURE_SET_EXPOSURE, exposure_time_ue, ueye.sizeof(exposure_time_ue))"
   ]
  },
  {
   "cell_type": "code",
   "execution_count": 7,
   "id": "ac890eb7-bbd1-41cb-9b41-2410151ab701",
   "metadata": {},
   "outputs": [],
   "source": [
    "\n",
    "# Allocates an image memory for an image having its dimensions defined by width and height and its color depth defined by nBitsPerPixel\n",
    "nRet = ueye.is_AllocImageMem(hCam, width, height, nBitsPerPixel, pcImageMemory, MemID)\n",
    "if nRet != ueye.IS_SUCCESS:\n",
    "    print(\"is_AllocImageMem ERROR\")\n",
    "else:\n",
    "    # Makes the specified image memory the active memory\n",
    "    nRet = ueye.is_SetImageMem(hCam, pcImageMemory, MemID)\n",
    "    if nRet != ueye.IS_SUCCESS:\n",
    "        print(\"is_SetImageMem ERROR\")\n",
    "    else:\n",
    "        # Set the desired color mode\n",
    "        nRet = ueye.is_SetColorMode(hCam, m_nColorMode)\n"
   ]
  },
  {
   "cell_type": "code",
   "execution_count": 8,
   "id": "ae146da4-9ed8-4461-8bcb-f87bcb9d1096",
   "metadata": {},
   "outputs": [],
   "source": [
    "# Activates the camera's live video mode (free run mode)\n",
    "nRet = ueye.is_CaptureVideo(hCam, ueye.IS_DONT_WAIT)\n",
    "if nRet != ueye.IS_SUCCESS:\n",
    "    print(\"is_CaptureVideo ERROR\")"
   ]
  },
  {
   "cell_type": "code",
   "execution_count": 9,
   "id": "0aa7c75d-0cc2-4866-b9c3-6c4ba00f94d2",
   "metadata": {},
   "outputs": [],
   "source": []
  },
  {
   "cell_type": "code",
   "execution_count": 11,
   "id": "901e3dfc-0089-47bc-81a5-a7c5451948d4",
   "metadata": {},
   "outputs": [
    {
     "name": "stdout",
     "output_type": "stream",
     "text": [
      "[]\n"
     ]
    }
   ],
   "source": [
    "array = ueye.get_data(pcImageMemory, width, height, nBitsPerPixel, pitch, copy=False)\n",
    "\n",
    "print(array)\n"
   ]
  },
  {
   "cell_type": "code",
   "execution_count": 14,
   "id": "0216e6e6-3a1c-43ee-a12c-b86109f17030",
   "metadata": {},
   "outputs": [
    {
     "name": "stdout",
     "output_type": "stream",
     "text": [
      "Press q to leave the programm\n"
     ]
    }
   ],
   "source": [
    "# Enables the queue mode for existing image memory sequences\n",
    "nRet = ueye.is_InquireImageMem(hCam, pcImageMemory, MemID, width, height, nBitsPerPixel, pitch)\n",
    "if nRet != ueye.IS_SUCCESS:\n",
    "    print(\"is_InquireImageMem ERROR\")\n",
    "else:\n",
    "    print(\"Press q to leave the programm\")"
   ]
  },
  {
   "cell_type": "code",
   "execution_count": null,
   "id": "02ab84bb-e199-4600-8489-432879f2f637",
   "metadata": {},
   "outputs": [],
   "source": []
  },
  {
   "cell_type": "code",
   "execution_count": 15,
   "id": "eea8b2a2-4fa9-4ef5-8b02-d5244b1af898",
   "metadata": {},
   "outputs": [
    {
     "ename": "KeyboardInterrupt",
     "evalue": "",
     "output_type": "error",
     "traceback": [
      "\u001b[0;31m---------------------------------------------------------------------------\u001b[0m",
      "\u001b[0;31mKeyboardInterrupt\u001b[0m                         Traceback (most recent call last)",
      "Cell \u001b[0;32mIn[15], line 14\u001b[0m\n\u001b[1;32m     11\u001b[0m frame \u001b[38;5;241m=\u001b[39m np\u001b[38;5;241m.\u001b[39mreshape(array,(height\u001b[38;5;241m.\u001b[39mvalue, width\u001b[38;5;241m.\u001b[39mvalue, bytes_per_pixel))\n\u001b[1;32m     13\u001b[0m \u001b[38;5;66;03m# ...resize the image by a half\u001b[39;00m\n\u001b[0;32m---> 14\u001b[0m frame \u001b[38;5;241m=\u001b[39m \u001b[43mcv2\u001b[49m\u001b[38;5;241;43m.\u001b[39;49m\u001b[43mresize\u001b[49m\u001b[43m(\u001b[49m\u001b[43mframe\u001b[49m\u001b[43m,\u001b[49m\u001b[43m(\u001b[49m\u001b[38;5;241;43m0\u001b[39;49m\u001b[43m,\u001b[49m\u001b[38;5;241;43m0\u001b[39;49m\u001b[43m)\u001b[49m\u001b[43m,\u001b[49m\u001b[43mfx\u001b[49m\u001b[38;5;241;43m=\u001b[39;49m\u001b[38;5;241;43m0.5\u001b[39;49m\u001b[43m,\u001b[49m\u001b[43m \u001b[49m\u001b[43mfy\u001b[49m\u001b[38;5;241;43m=\u001b[39;49m\u001b[38;5;241;43m0.5\u001b[39;49m\u001b[43m)\u001b[49m\n",
      "\u001b[0;31mKeyboardInterrupt\u001b[0m: "
     ]
    }
   ],
   "source": [
    "# Continuous image display\n",
    "while(nRet == ueye.IS_SUCCESS):\n",
    "\n",
    "    # In order to display the image in an OpenCV window we need to...\n",
    "    # ...extract the data of our image memory\n",
    "    array = ueye.get_data(pcImageMemory, width, height, nBitsPerPixel, pitch, copy=False)\n",
    "\n",
    "    # bytes_per_pixel = int(nBitsPerPixel / 8)\n",
    "\n",
    "    # ...reshape it in an numpy array...\n",
    "    frame = np.reshape(array,(height.value, width.value, bytes_per_pixel))\n",
    "\n",
    "    # ...resize the image by a half\n",
    "    frame = cv2.resize(frame,(0,0),fx=0.5, fy=0.5)"
   ]
  },
  {
   "cell_type": "code",
   "execution_count": 11,
   "id": "9fab48e3-89bf-46eb-81cf-0651ef6b844b",
   "metadata": {},
   "outputs": [],
   "source": [
    "# Releases an image memory that was allocated using is_AllocImageMem() and removes it from the driver management\n",
    "ueye.is_FreeImageMem(hCam, pcImageMemory, MemID)\n",
    "\n",
    "# Disables the hCam camera handle and releases the data structures and memory areas taken up by the uEye camera\n",
    "ueye.is_ExitCamera(hCam)\n",
    "\n",
    "# Destroys the OpenCv windows\n",
    "cv2.destroyAllWindows()"
   ]
  },
  {
   "cell_type": "code",
   "execution_count": null,
   "id": "c9a1a3a6-bf18-4664-893d-4536fcf9e6dc",
   "metadata": {},
   "outputs": [],
   "source": []
  }
 ],
 "metadata": {
  "kernelspec": {
   "display_name": "Python 3 (ipykernel)",
   "language": "python",
   "name": "python3"
  },
  "language_info": {
   "codemirror_mode": {
    "name": "ipython",
    "version": 3
   },
   "file_extension": ".py",
   "mimetype": "text/x-python",
   "name": "python",
   "nbconvert_exporter": "python",
   "pygments_lexer": "ipython3",
   "version": "3.8.10"
  }
 },
 "nbformat": 4,
 "nbformat_minor": 5
}
