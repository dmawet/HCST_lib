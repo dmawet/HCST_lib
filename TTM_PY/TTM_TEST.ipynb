{
 "cells": [
  {
   "cell_type": "markdown",
   "metadata": {},
   "source": [
    "Todo:\n",
    "- Make new class so CloseConnection gets run in the case of an error automatically. If an error gets thrown and the connection is not closed manual reboot of the controller is required."
   ]
  },
  {
   "cell_type": "code",
   "execution_count": 1,
   "metadata": {},
   "outputs": [],
   "source": [
    "from pipython import GCSDevice, GCSError\n",
    "import time\n",
    "\n",
    "\n",
    "\n",
    "ipaddress = '131.215.193.165'"
   ]
  },
  {
   "cell_type": "code",
   "execution_count": 5,
   "metadata": {},
   "outputs": [],
   "source": [
    "dev = GCSDevice()\n",
    "dev.ConnectTCPIP(ipaddress, ipport=50000)\n",
    "# dev.CloseConnection()\n"
   ]
  },
  {
   "cell_type": "code",
   "execution_count": 14,
   "metadata": {},
   "outputs": [
    {
     "name": "stdout",
     "output_type": "stream",
     "text": [
      "OrderedDict([('A', True), ('B', True)])\n"
     ]
    }
   ],
   "source": [
    "dev.SVO({axis:True for axis in axes})\n",
    "# Query Loop status\n",
    "svo = dev.qSVO(axes)\n",
    "print(svo)"
   ]
  },
  {
   "cell_type": "code",
   "execution_count": 15,
   "metadata": {},
   "outputs": [
    {
     "name": "stdout",
     "output_type": "stream",
     "text": [
      "OrderedDict([(1, True), (2, True)])\n",
      "OrderedDict([(1, True), (2, True)])\n"
     ]
    }
   ],
   "source": [
    "# Turn each axes online!!!!!!!\n",
    "axes_onl = [1, 2]\n",
    "print(dev.qONL(axes_onl))\n",
    "dev.ONL({axis:True for axis in axes_onl})\n",
    "time.sleep(1)\n",
    "print(dev.qONL(axes_onl))"
   ]
  },
  {
   "cell_type": "code",
   "execution_count": 6,
   "metadata": {},
   "outputs": [
    {
     "name": "stdout",
     "output_type": "stream",
     "text": [
      "OrderedDict([('A', 0.0), ('B', 0.0), ('C', 0.0)]) \n",
      " OrderedDict([('A', 10.0), ('B', 10.0), ('C', 10.0)]) \n",
      " 0.0\n",
      "OrderedDict([('A', True), ('B', True)])\n"
     ]
    }
   ],
   "source": [
    "        #Query Range\n",
    "        min = dev.qTMN()\n",
    "        max = dev.qTMX()\n",
    "\n",
    "        print(min,'\\n', max, '\\n', min['A'])\n",
    "\n",
    "        # List of axes\n",
    "        axes = ['A', 'B'];\n",
    "\n",
    "        # Close the internal SGS loops\n",
    "        dev.SVO({axis:True for axis in axes})\n",
    "        # Query Loop status\n",
    "        svo = dev.qSVO(axes)\n",
    "        print(svo)\n",
    "\n",
    "        # Query current position\n",
    "        dev.qPOS(axes)\n",
    "        time.sleep(3)"
   ]
  },
  {
   "cell_type": "code",
   "execution_count": null,
   "metadata": {},
   "outputs": [],
   "source": [
    "    newPos = [0,0]\n",
    "    for ind, axis in enumerate(axes):\n",
    "        newPos[ind] = 0.01*(max[axis]-min[axis])\n",
    "    print(dev.qSVO(axes),'\\n')\n",
    "    print({axis:newPos[ind] for ind, axis in enumerate(axes)})\n",
    "    # (NOTE: the MOV command only works in closed loop)\n",
    "#     dev.MOV({axis:newPos[ind] for ind, axis in enumerate(axes)})"
   ]
  },
  {
   "cell_type": "code",
   "execution_count": 7,
   "metadata": {},
   "outputs": [
    {
     "data": {
      "text/plain": [
       "OrderedDict([('A', 1.0), ('B', 1.0)])"
      ]
     },
     "execution_count": 7,
     "metadata": {},
     "output_type": "execute_result"
    }
   ],
   "source": [
    "dev.qMOV(axes)"
   ]
  },
  {
   "cell_type": "code",
   "execution_count": 8,
   "metadata": {
    "scrolled": true
   },
   "outputs": [
    {
     "name": "stdout",
     "output_type": "stream",
     "text": [
      "A=1.0000 \n",
      "B=1.0000 \n",
      "C=-1.0003\n",
      "\n",
      "A=1.1951 \n",
      "B=0.9998 \n",
      "C=-1.0003\n",
      "\n"
     ]
    }
   ],
   "source": [
    "print(dev.read('POS?'))\n",
    "dev.send('MOV A 1.23')\n",
    "print(dev.read('POS?'))"
   ]
  },
  {
   "cell_type": "code",
   "execution_count": 16,
   "metadata": {},
   "outputs": [
    {
     "name": "stdout",
     "output_type": "stream",
     "text": [
      "OrderedDict([('A', 0.9998), ('B', 0.0003)])\n",
      "OrderedDict([('A', -0.0004), ('B', 0.0001)])\n"
     ]
    }
   ],
   "source": [
    "print(dev.qPOS(axes))\n",
    "dev.MOV(['A', 'B'], [0.0,0.0])\n",
    "time.sleep(1)\n",
    "print(dev.qPOS(axes))"
   ]
  },
  {
   "cell_type": "code",
   "execution_count": 13,
   "metadata": {
    "scrolled": true
   },
   "outputs": [
    {
     "name": "stdout",
     "output_type": "stream",
     "text": [
      "(c) 2016 Physik Instrumente (PI) GmbH & Co. KG, E-518.I3, 116035074, 3.10\n",
      "\n"
     ]
    }
   ],
   "source": [
    "print(dev.qIDN())"
   ]
  },
  {
   "cell_type": "code",
   "execution_count": 17,
   "metadata": {},
   "outputs": [],
   "source": [
    "dev.CloseConnection()"
   ]
  },
  {
   "cell_type": "code",
   "execution_count": null,
   "metadata": {},
   "outputs": [],
   "source": [
    "\n",
    "\n",
    "with GCSDevice() as dev:\n",
    "    dev = GCSDevice()\n",
    "    # dev.ConnectUSB(<serial_number>)\n",
    "    dev.ConnectTCPIP(ipaddress, ipport=50000)\n",
    "\n",
    "    #Query Range\n",
    "    min = dev.qTMN()\n",
    "    max = dev.qTMX()\n",
    "\n",
    "    print(min,'\\n', max, '\\n', min['A'])\n",
    "\n",
    "    # List of axes\n",
    "    axes = ['A', 'B'];\n",
    "\n",
    "    # Close the internal SGS loops\n",
    "    dev.SVO({axis:True for axis in axes})\n",
    "    # Query Loop status\n",
    "    dev.qSVO(axes)\n",
    "\n",
    "    # Query current position\n",
    "    dev.qPOS(axes)\n",
    "    time.sleep(3)\n",
    "\n",
    "    # command to new position\n",
    "      # (Apply fraction of full range)\n",
    "    newPos = [0,0]\n",
    "    for ind, axis in enumerate(axes):\n",
    "        newPos[ind] = 0.01*(max[axis]-min[axis])\n",
    "    print(dev.qSVO(axes),'\\n')\n",
    "    print({axis:newPos[ind] for ind, axis in enumerate(axes)})\n",
    "    # (NOTE: the MOV command only works in closed loop)\n",
    "    dev.MOV({axis:newPos[ind] for ind, axis in enumerate(axes)})\n",
    "\n",
    "    time.sleep(1)\n",
    "    dev.qPOS(axes)\n",
    "\n",
    "    #-- Cleanup before disconnecting\n",
    "    # Open Loops\n",
    "    dev.SVO({axis:False for axis in axes})\n",
    "    # Zero voltages (only really needed if fully shutting down power)\n",
    "    dev.SVA({axis:0 for axis in axes})\n",
    "    # Disconnect\n",
    "    dev.CloseConnection()\n"
   ]
  }
 ],
 "metadata": {
  "kernelspec": {
   "display_name": "Python 3",
   "language": "python",
   "name": "python3"
  },
  "language_info": {
   "codemirror_mode": {
    "name": "ipython",
    "version": 3
   },
   "file_extension": ".py",
   "mimetype": "text/x-python",
   "name": "python",
   "nbconvert_exporter": "python",
   "pygments_lexer": "ipython3",
   "version": "3.7.3"
  }
 },
 "nbformat": 4,
 "nbformat_minor": 2
}
