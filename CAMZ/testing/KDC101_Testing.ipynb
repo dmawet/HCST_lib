{
 "cells": [
  {
   "cell_type": "code",
   "execution_count": 1,
   "id": "3006a875-4cb9-46b5-8229-7436e2c5c8a5",
   "metadata": {},
   "outputs": [],
   "source": [
    "import os \n",
    "import sys\n",
    "\n",
    "sys.path.append(r'/home/hcst/HCST_lib/CAMZ/pyKDC101/src/pyKDC101')\n",
    "# print(sys.path)\n",
    "from core import KDC\n",
    "\n",
    "# TODO: Add Safeties"
   ]
  },
  {
   "cell_type": "code",
   "execution_count": 2,
   "id": "1c6e6d23-aaa2-4b36-ab17-7f15a22abfec",
   "metadata": {
    "scrolled": true
   },
   "outputs": [
    {
     "name": "stdout",
     "output_type": "stream",
     "text": [
      "opening port /dev/serial/by-id/usb-Thorlabs_Brushed_Motor_Controller_27268827-if00-port0\n",
      "serial number:\t\t27268827\n",
      "model number:\t\tKDC101\n",
      "firmware version:\t2.2.8\n",
      "hardware type:\t\t16\n",
      "hardware version:\t3\n",
      "modification state:\t0\n",
      "number of channels:\t1\n",
      "JSMode: 1\tJSMaxVel: 1655895\tJSAccn: 352\tDirSense:1\n",
      "Preset Positions:\t0\t0\n",
      "Display Parameters: 60, 10, 2\n"
     ]
    }
   ],
   "source": [
    "kdc = KDC(SN='27268827')  # open with specified serial number\n",
    "\n",
    "# let the display flash\n",
    "kdc.identify()\n",
    "\n",
    "# %% --------------------------------------------------------------------------\n",
    "# get info\n",
    "kdc.get_info()\n",
    "kdc.get_serial()\n",
    "kdc.get_mmi_params()"
   ]
  },
  {
   "cell_type": "code",
   "execution_count": 17,
   "id": "44afb20b-7796-4eaf-88e9-bcc51c891587",
   "metadata": {},
   "outputs": [],
   "source": [
    "kdc.move_abs_wait(25)"
   ]
  },
  {
   "cell_type": "code",
   "execution_count": 12,
   "id": "848d7826-85e2-4770-93a6-58cbaea28962",
   "metadata": {},
   "outputs": [],
   "source": [
    "kdc.move_abs(40)\n"
   ]
  },
  {
   "cell_type": "code",
   "execution_count": 16,
   "id": "4548c772-5559-459e-9fb7-c7e72127820b",
   "metadata": {},
   "outputs": [],
   "source": [
    "kdc.move_rel(-5)\n"
   ]
  },
  {
   "cell_type": "code",
   "execution_count": 3,
   "id": "a1a62c6b-d9a8-4582-80ce-fb0fdb9a0ceb",
   "metadata": {},
   "outputs": [],
   "source": [
    "kdc.move_home()\n"
   ]
  },
  {
   "cell_type": "code",
   "execution_count": null,
   "id": "1cae7bf9-9b91-47ad-bce0-f4db71519387",
   "metadata": {},
   "outputs": [],
   "source": [
    "kdc.stop_move()"
   ]
  },
  {
   "cell_type": "code",
   "execution_count": 18,
   "id": "f31d87be-9713-42c6-b197-4610b9d37960",
   "metadata": {},
   "outputs": [
    {
     "name": "stdout",
     "output_type": "stream",
     "text": [
      "is open:  False\n"
     ]
    }
   ],
   "source": [
    "kdc.closestage()"
   ]
  },
  {
   "cell_type": "code",
   "execution_count": null,
   "id": "0b7408e8-96bb-4c81-b13b-98d4771b415d",
   "metadata": {},
   "outputs": [],
   "source": []
  }
 ],
 "metadata": {
  "kernelspec": {
   "display_name": "Python 3 (ipykernel)",
   "language": "python",
   "name": "python3"
  },
  "language_info": {
   "codemirror_mode": {
    "name": "ipython",
    "version": 3
   },
   "file_extension": ".py",
   "mimetype": "text/x-python",
   "name": "python",
   "nbconvert_exporter": "python",
   "pygments_lexer": "ipython3",
   "version": "3.8.19"
  }
 },
 "nbformat": 4,
 "nbformat_minor": 5
}
